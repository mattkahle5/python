{
 "cells": [
  {
   "cell_type": "code",
   "execution_count": 15,
   "metadata": {},
   "outputs": [
    {
     "name": "stdin",
     "output_type": "stream",
     "text": [
      "Enter a number greater than 1 11\n"
     ]
    },
    {
     "name": "stdout",
     "output_type": "stream",
     "text": [
      "34\n",
      "1\n",
      "17.0\n",
      "2\n",
      "52.0\n",
      "3\n",
      "26.0\n",
      "4\n",
      "13.0\n",
      "5\n",
      "40.0\n",
      "6\n",
      "20.0\n",
      "7\n",
      "10.0\n",
      "8\n",
      "5.0\n",
      "9\n",
      "16.0\n",
      "10\n",
      "8.0\n",
      "11\n",
      "4.0\n",
      "12\n",
      "2.0\n",
      "13\n",
      "1.0\n",
      "14\n",
      "The number has reached 1 with 14 steps\n"
     ]
    }
   ],
   "source": [
    "# take in a number greater than one\n",
    "while True:\n",
    "    num = int(input('Enter a number greater than 1'))\n",
    "    if num <= 1:\n",
    "        print('Number must be greater than 1')\n",
    "    else:\n",
    "        break\n",
    "count = 0\n",
    "# while loop til number gets to one\n",
    "while num > 1:\n",
    "        \n",
    "    # if input is even divide by 2, count + 1\n",
    "    if num % 2 == 0:\n",
    "        num = num / 2\n",
    "        count += 1\n",
    "    else:     # if input is odd multiply by 3 and add 1, count + 1\n",
    "        num = num * 3 + 1\n",
    "        count += 1\n",
    "    print(num)\n",
    "    print(count)\n",
    "\n",
    "print(f'The number has reached 1 with {count} steps')\n",
    "# print count"
   ]
  },
  {
   "cell_type": "code",
   "execution_count": null,
   "metadata": {},
   "outputs": [],
   "source": []
  }
 ],
 "metadata": {
  "kernelspec": {
   "display_name": "Python 3",
   "language": "python",
   "name": "python3"
  },
  "language_info": {
   "codemirror_mode": {
    "name": "ipython",
    "version": 3
   },
   "file_extension": ".py",
   "mimetype": "text/x-python",
   "name": "python",
   "nbconvert_exporter": "python",
   "pygments_lexer": "ipython3",
   "version": "3.7.3"
  }
 },
 "nbformat": 4,
 "nbformat_minor": 2
}
