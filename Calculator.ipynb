{
 "cells": [
  {
   "cell_type": "code",
   "execution_count": 1,
   "metadata": {},
   "outputs": [
    {
     "name": "stdin",
     "output_type": "stream",
     "text": [
      "First number 5\n",
      "Action %\n",
      "Second number 8\n"
     ]
    },
    {
     "name": "stdout",
     "output_type": "stream",
     "text": [
      "5\n"
     ]
    },
    {
     "name": "stdin",
     "output_type": "stream",
     "text": [
      "Another? n\n"
     ]
    }
   ],
   "source": [
    "while True:\n",
    "    num1 = int(input('First number'))\n",
    "    x = input('Action')\n",
    "\n",
    "    num2 = int(input('Second number'))\n",
    "\n",
    "\n",
    "    if x == '**':\n",
    "        print(num1**num2)\n",
    "    elif x == '%':\n",
    "        print(num1%num2)\n",
    "    elif x == '/':\n",
    "        print(num1/num2)\n",
    "    elif x == '*':\n",
    "        print(num1*num2)\n",
    "    elif x == '-':\n",
    "        print(num1-num2)\n",
    "    else:\n",
    "        print(num1+num2)\n",
    "    \n",
    "    if input('Another?') == 'y':\n",
    "        continue\n",
    "    else:\n",
    "        break"
   ]
  },
  {
   "cell_type": "code",
   "execution_count": null,
   "metadata": {},
   "outputs": [],
   "source": []
  }
 ],
 "metadata": {
  "kernelspec": {
   "display_name": "Python 3",
   "language": "python",
   "name": "python3"
  },
  "language_info": {
   "codemirror_mode": {
    "name": "ipython",
    "version": 3
   },
   "file_extension": ".py",
   "mimetype": "text/x-python",
   "name": "python",
   "nbconvert_exporter": "python",
   "pygments_lexer": "ipython3",
   "version": "3.7.3"
  }
 },
 "nbformat": 4,
 "nbformat_minor": 2
}
