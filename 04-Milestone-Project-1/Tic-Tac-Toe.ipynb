{
 "cells": [
  {
   "cell_type": "code",
   "execution_count": 2,
   "metadata": {},
   "outputs": [
    {
     "name": "stdout",
     "output_type": "stream",
     "text": [
      "Welcome to Tic Tac Toe!\n"
     ]
    },
    {
     "name": "stdin",
     "output_type": "stream",
     "text": [
      "Player 1 is X or O? :  o\n"
     ]
    },
    {
     "name": "stdout",
     "output_type": "stream",
     "text": [
      "Okay Player 1 is O\n",
      "And Player 2 is X\n",
      " \n",
      " | 7 | 8 | 9 | \n",
      " | 4 | 5 | 6 | \n",
      " | 1 | 2 | 3 | \n",
      " \n",
      "Player 1 goes first\n",
      "Player 1 your turn\n"
     ]
    },
    {
     "name": "stdin",
     "output_type": "stream",
     "text": [
      "Please choose spot:  7\n"
     ]
    },
    {
     "name": "stdout",
     "output_type": "stream",
     "text": [
      " \n",
      " | O | 8 | 9 | \n",
      " | 4 | 5 | 6 | \n",
      " | 1 | 2 | 3 | \n",
      " \n",
      "Player 2 your turn\n"
     ]
    },
    {
     "name": "stdin",
     "output_type": "stream",
     "text": [
      "Please choose spot:  1\n"
     ]
    },
    {
     "name": "stdout",
     "output_type": "stream",
     "text": [
      " \n",
      " | O | 8 | 9 | \n",
      " | 4 | 5 | 6 | \n",
      " | X | 2 | 3 | \n",
      " \n",
      "Player 1 your turn\n"
     ]
    },
    {
     "name": "stdin",
     "output_type": "stream",
     "text": [
      "Please choose spot:  3\n"
     ]
    },
    {
     "name": "stdout",
     "output_type": "stream",
     "text": [
      " \n",
      " | O | 8 | 9 | \n",
      " | 4 | 5 | 6 | \n",
      " | X | 2 | O | \n",
      " \n",
      "Player 2 your turn\n"
     ]
    },
    {
     "name": "stdin",
     "output_type": "stream",
     "text": [
      "Please choose spot:  4\n"
     ]
    },
    {
     "name": "stdout",
     "output_type": "stream",
     "text": [
      " \n",
      " | O | 8 | 9 | \n",
      " | X | 5 | 6 | \n",
      " | X | 2 | O | \n",
      " \n",
      "Player 1 your turn\n"
     ]
    },
    {
     "name": "stdin",
     "output_type": "stream",
     "text": [
      "Please choose spot:  8\n"
     ]
    },
    {
     "name": "stdout",
     "output_type": "stream",
     "text": [
      " \n",
      " | O | O | 9 | \n",
      " | X | 5 | 6 | \n",
      " | X | 2 | O | \n",
      " \n",
      "Player 2 your turn\n"
     ]
    },
    {
     "name": "stdin",
     "output_type": "stream",
     "text": [
      "Please choose spot:  7\n"
     ]
    },
    {
     "name": "stdout",
     "output_type": "stream",
     "text": [
      "Spot is taken, pick another\n"
     ]
    },
    {
     "name": "stdin",
     "output_type": "stream",
     "text": [
      "Please choose spot:  9\n"
     ]
    },
    {
     "name": "stdout",
     "output_type": "stream",
     "text": [
      " \n",
      " | O | O | X | \n",
      " | X | 5 | 6 | \n",
      " | X | 2 | O | \n",
      " \n",
      "Player 1 your turn\n"
     ]
    },
    {
     "name": "stdin",
     "output_type": "stream",
     "text": [
      "Please choose spot:  3\n"
     ]
    },
    {
     "name": "stdout",
     "output_type": "stream",
     "text": [
      "Spot is taken, pick another\n"
     ]
    },
    {
     "name": "stdin",
     "output_type": "stream",
     "text": [
      "Please choose spot:  4\n"
     ]
    },
    {
     "name": "stdout",
     "output_type": "stream",
     "text": [
      "Spot is taken, pick another\n"
     ]
    },
    {
     "name": "stdin",
     "output_type": "stream",
     "text": [
      "Please choose spot:  5\n"
     ]
    },
    {
     "name": "stdout",
     "output_type": "stream",
     "text": [
      " \n",
      " | O | O | X | \n",
      " | X | O | 6 | \n",
      " | X | 2 | O | \n",
      " \n",
      "Player 1 Wins!!!\n"
     ]
    },
    {
     "name": "stdin",
     "output_type": "stream",
     "text": [
      "Do you want to play again?  no\n"
     ]
    }
   ],
   "source": [
    "## from IPython.display import clear_output\n",
    "\n",
    "def display_board(board):\n",
    "        print(f' \\n | {board[7]} | {board[8]} | {board[9]} | \\n | {board[4]} | {board[5]} | {board[6]} | \\n | {board[1]} | {board[2]} | {board[3]} | \\n ')\n",
    "        \n",
    "\n",
    "def player_input(p1marker,p2marker):\n",
    "\n",
    "    while p1marker != 'X' and p1marker != 'O':\n",
    "        p1marker = input(\"Player 1 is X or O? : \").upper()\n",
    "    if p1marker == 'X':\n",
    "        p2marker = 'O'\n",
    "    elif p1marker == 'O':\n",
    "        p2marker = 'X'\n",
    "    print(f'Okay Player 1 is {p1marker}')\n",
    "    print(f'And Player 2 is {p2marker}')\n",
    "    return p1marker,p2marker\n",
    "    pass\n",
    "\n",
    "def place_marker(board, marker, position):\n",
    "    if position > 0 and position < 10:\n",
    "        if marker == 'X' or marker == 'O':\n",
    "            test_board[position] = marker\n",
    "        else:\n",
    "            print('marker not X or O')\n",
    "    else:\n",
    "        print('position not 1-9')\n",
    "    pass\n",
    "\n",
    "def win_check(board, mark):\n",
    "    check1 = (mark == board[1] and mark == board[2] and mark == board[3])\n",
    "    check2 = (mark == board[4] and mark == board[5] and mark == board[6])\n",
    "    check3 = (mark == board[7] and mark == board[8] and mark == board[9])\n",
    "    check4 = (mark == board[1] and mark == board[4] and mark == board[7])\n",
    "    check5 = (mark == board[2] and mark == board[5] and mark == board[8])\n",
    "    check6 = (mark == board[3] and mark == board[6] and mark == board[9])\n",
    "    check7 = (mark == board[1] and mark == board[5] and mark == board[9])\n",
    "    check8 = (mark == board[7] and mark == board[5] and mark == board[3])\n",
    "    if  check1 or check2 or check3 or check4 or check5 or check6 or check7 or check8:\n",
    "        display_board(board)\n",
    "        return True\n",
    "    else:\n",
    "        display_board(board)\n",
    "        return False\n",
    "    pass\n",
    "\n",
    "import random\n",
    "\n",
    "def choose_first():\n",
    "    first = random.randint(0,1)\n",
    "    if first == 0:\n",
    "        print('Player 1 goes first')\n",
    "    else:\n",
    "        print('Player 2 goes first')\n",
    "    return first\n",
    "    pass\n",
    "\n",
    "def space_check(board, position):\n",
    "    if board[position] != 'O' and board[position] != 'X' and board[position] != '#':\n",
    "        return True\n",
    "    else:\n",
    "        print(\"Spot is taken, pick another\")\n",
    "        return False\n",
    "    pass\n",
    "\n",
    "def full_board_check(board):\n",
    "    answer = False\n",
    "    for pos in board:\n",
    "        if pos != 'X' and pos != 'O' and pos != '#':\n",
    "            return False\n",
    "        else:\n",
    "            answer = True\n",
    "    return True\n",
    "    pass\n",
    "\n",
    "def player_choice(board):\n",
    "    nextpos = int(input('Please choose spot: '))\n",
    "    if not space_check(board,nextpos):\n",
    "        return False\n",
    "    \n",
    "    return int(nextpos)\n",
    "        \n",
    "\n",
    "def replay():\n",
    "    answer = input('Do you want to play again? ')\n",
    "    if answer.lower() == 'yes':\n",
    "        return True\n",
    "    else:\n",
    "        return False\n",
    "    pass\n",
    "\n",
    "#################################################################################################################\n",
    "##############   GAME LOOP    #####################################\n",
    "######################################################################\n",
    "\n",
    "print('Welcome to Tic Tac Toe!')\n",
    "\n",
    "while True:\n",
    "    # Set the game up here\n",
    "    p1marker = ' '\n",
    "    p2marker = ' '\n",
    "    position = ''\n",
    "    p1marker, p2marker = player_input(p1marker,p2marker)\n",
    "    board = ['#', '1', '2', '3', '4', '5', '6', '7', '8','9']\n",
    "    display_board(board)\n",
    "    game_on = True\n",
    "    turn = choose_first()\n",
    "    while game_on:\n",
    "        #Player 1 Turn\n",
    "        if turn == 0:\n",
    "            turn = 1\n",
    "            print(\"Player 1 your turn\")\n",
    "            position = player_choice(board)\n",
    "            while type(position) != int:\n",
    "                position = player_choice(board)\n",
    "            board[position] = p1marker\n",
    "            if win_check(board,p1marker):\n",
    "                print(\"Player 1 Wins!!!\")\n",
    "                game_on = False\n",
    "            if full_board_check(board):\n",
    "                print('No winners')\n",
    "                game_on = False\n",
    "            position = ''\n",
    "        # Player2's turn.\n",
    "        elif turn == 1:\n",
    "            turn = 0\n",
    "            print(\"Player 2 your turn\")\n",
    "            while type(position) != int:\n",
    "                position = player_choice(board)\n",
    "            board[position] = p2marker\n",
    "            if win_check(board,p2marker):\n",
    "                print(\"Player 2 Wins!!!\")\n",
    "                game_on = False\n",
    "            if full_board_check(board):\n",
    "                print('No winners')\n",
    "                game_on = False\n",
    "            position = ''\n",
    "    if not replay():\n",
    "        break"
   ]
  },
  {
   "cell_type": "code",
   "execution_count": null,
   "metadata": {},
   "outputs": [],
   "source": []
  }
 ],
 "metadata": {
  "kernelspec": {
   "display_name": "Python 3",
   "language": "python",
   "name": "python3"
  },
  "language_info": {
   "codemirror_mode": {
    "name": "ipython",
    "version": 3
   },
   "file_extension": ".py",
   "mimetype": "text/x-python",
   "name": "python",
   "nbconvert_exporter": "python",
   "pygments_lexer": "ipython3",
   "version": "3.7.3"
  }
 },
 "nbformat": 4,
 "nbformat_minor": 2
}
